{
 "cells": [
  {
   "cell_type": "markdown",
   "id": "1df05ad8",
   "metadata": {},
   "source": [
    "# Crear llaves ssh de manera local"
   ]
  },
  {
   "cell_type": "markdown",
   "id": "1fcf2957",
   "metadata": {},
   "source": [
    "## Importancia de las llaves SSH:\n",
    "\n",
    "   - Mayor seguridad\n",
    "   - Solo iniciamos 1 vez\n",
    "     nuestras credenciales\n",
    "   -"
   ]
  },
  {
   "cell_type": "markdown",
   "id": "59e18156",
   "metadata": {},
   "source": [
    "### 1) Revisar las configuraciones globales\n",
    "        git config -l"
   ]
  },
  {
   "cell_type": "markdown",
   "id": "e70efd47",
   "metadata": {},
   "source": [
    "### 2) Desde el home, creamos la llave SSH\n",
    "   **ssh-keygen -t rsa -b 4096 -C \"correo@añadir.aki\"**\n",
    "   Donde:\n",
    "   -t == el tipo de algoritmo usado, rsa es el más popular.\n",
    "   -b == que tan compleja es la llave, desde u perspectiva matemática.\n",
    "   -C == correo asociado a github"
   ]
  },
  {
   "cell_type": "markdown",
   "id": "6c89039c",
   "metadata": {},
   "source": [
    "### 3) Una ves que tengamos la llave, tenemos que agregarlo al entorno, y el entorno es básicamente que el sistema operativo donde tu trabajas sepa que la llave existe. Para ello ejecutamos lo sgte:\n",
    "   **eval $(ssh-agent -s)**"
   ]
  },
  {
   "cell_type": "markdown",
   "id": "87781b90",
   "metadata": {},
   "source": [
    "### 4) Agregamos la llave privada a nuestro sistema o al servidor por que no basta con que la llave solo exista, sino debemos decirle que existe. Para ello ejecutamos el siguiente comando:\n",
    " **ssh-add ~/.ssh/id_rsa**"
   ]
  },
  {
   "cell_type": "code",
   "execution_count": null,
   "id": "3baf1883",
   "metadata": {},
   "outputs": [],
   "source": []
  },
  {
   "cell_type": "code",
   "execution_count": null,
   "id": "d39eabfe",
   "metadata": {},
   "outputs": [],
   "source": []
  },
  {
   "cell_type": "code",
   "execution_count": null,
   "id": "4dc3c744",
   "metadata": {},
   "outputs": [],
   "source": []
  },
  {
   "cell_type": "code",
   "execution_count": null,
   "id": "32667e88",
   "metadata": {},
   "outputs": [],
   "source": []
  },
  {
   "cell_type": "code",
   "execution_count": null,
   "id": "96ce5ffd",
   "metadata": {},
   "outputs": [],
   "source": []
  }
 ],
 "metadata": {},
 "nbformat": 4,
 "nbformat_minor": 5
}
