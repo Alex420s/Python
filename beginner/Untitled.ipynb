{
 "cells": [
  {
   "cell_type": "markdown",
   "id": "b20f8dd9",
   "metadata": {},
   "source": [
    "# Crear llaves ssh de manera local"
   ]
  },
  {
   "cell_type": "markdown",
   "id": "66170aeb",
   "metadata": {},
   "source": [
    "## Importancia de las llaves SSH:\n",
    "\n",
    "   - Mayor seguridad\n",
    "   - Solo iniciamos 1 vez\n",
    "     nuestras credenciales\n",
    "   -"
   ]
  },
  {
   "cell_type": "markdown",
   "id": "56a01633",
   "metadata": {},
   "source": [
    "### 1) Revisar las configuraciones globales\n",
    "        git config -l"
   ]
  },
  {
   "cell_type": "markdown",
   "id": "8419509e",
   "metadata": {},
   "source": [
    "### 2) Desde el home, creamos la llave SSH\n",
    "   **ssh-keygen -t rsa -b 4096 -C \"correo@añadir.aki\"**\n",
    "   Donde:\n",
    "   -t == el tipo de algoritmo usado, rsa es el más popular.\n",
    "   -b == que tan compleja es la llave, desde u perspectiva matemática.\n",
    "   -C == correo asociado a github"
   ]
  },
  {
   "cell_type": "markdown",
   "id": "b832fa58",
   "metadata": {},
   "source": [
    "### 3) Una ves que tengamos la llave, tenemos que agregarlo al entorno, y el entorno es básicamente que el sistema operativo donde tu trabajas sepa que la llave existe. Para ello ejecutamos lo sgte:\n",
    "   **eval $(ssh-agent -s)**"
   ]
  },
  {
   "cell_type": "markdown",
   "id": "10b9c3ab",
   "metadata": {},
   "source": [
    "### 4) Agregamos la llave privada a nuestro sistema o al servidor por que no basta con que la llave solo exista, sino debemos decirle que existe. Para ello ejecutamos el siguiente comando:\n",
    " **ssh-add ~/.ssh/id_rsa**"
   ]
  },
  {
   "cell_type": "code",
   "execution_count": null,
   "id": "b4dbdf96",
   "metadata": {},
   "outputs": [],
   "source": []
  },
  {
   "cell_type": "code",
   "execution_count": null,
   "id": "4059777c",
   "metadata": {},
   "outputs": [],
   "source": []
  },
  {
   "cell_type": "code",
   "execution_count": null,
   "id": "2bd1f4c8",
   "metadata": {},
   "outputs": [],
   "source": []
  },
  {
   "cell_type": "code",
   "execution_count": null,
   "id": "4b5870cf",
   "metadata": {},
   "outputs": [],
   "source": []
  },
  {
   "cell_type": "code",
   "execution_count": null,
   "id": "6cf42fc9",
   "metadata": {},
   "outputs": [],
   "source": []
  }
 ],
 "metadata": {},
 "nbformat": 4,
 "nbformat_minor": 5
}
